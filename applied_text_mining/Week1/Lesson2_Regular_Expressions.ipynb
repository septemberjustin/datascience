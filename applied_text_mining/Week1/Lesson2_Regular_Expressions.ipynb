{
 "cells": [
  {
   "cell_type": "code",
   "execution_count": 1,
   "metadata": {
    "ExecuteTime": {
     "end_time": "2017-08-02T11:42:19.460064Z",
     "start_time": "2017-08-02T11:42:19.443071Z"
    },
    "collapsed": true
   },
   "outputs": [],
   "source": [
    "text10 = '@UN @UN_Women \"Ethics are built right into the ideals and objectives of the United Nations\" \\\n",
    "#UNSG @ NY Society for Ethical Culture bit.ly/2guVelr'"
   ]
  },
  {
   "cell_type": "code",
   "execution_count": 2,
   "metadata": {
    "ExecuteTime": {
     "end_time": "2017-08-02T11:42:34.388244Z",
     "start_time": "2017-08-02T11:42:34.383823Z"
    },
    "collapsed": true
   },
   "outputs": [],
   "source": [
    "text11 = text10.split(' ')"
   ]
  },
  {
   "cell_type": "code",
   "execution_count": 3,
   "metadata": {
    "ExecuteTime": {
     "end_time": "2017-08-02T11:42:36.339154Z",
     "start_time": "2017-08-02T11:42:36.308472Z"
    }
   },
   "outputs": [
    {
     "data": {
      "text/plain": [
       "['@UN',\n",
       " '@UN_Women',\n",
       " '\"Ethics',\n",
       " 'are',\n",
       " 'built',\n",
       " 'right',\n",
       " 'into',\n",
       " 'the',\n",
       " 'ideals',\n",
       " 'and',\n",
       " 'objectives',\n",
       " 'of',\n",
       " 'the',\n",
       " 'United',\n",
       " 'Nations\"',\n",
       " '#UNSG',\n",
       " '@',\n",
       " 'NY',\n",
       " 'Society',\n",
       " 'for',\n",
       " 'Ethical',\n",
       " 'Culture',\n",
       " 'bit.ly/2guVelr']"
      ]
     },
     "execution_count": 3,
     "metadata": {},
     "output_type": "execute_result"
    }
   ],
   "source": [
    "text11"
   ]
  },
  {
   "cell_type": "code",
   "execution_count": 4,
   "metadata": {
    "ExecuteTime": {
     "end_time": "2017-08-02T11:43:56.925773Z",
     "start_time": "2017-08-02T11:43:56.915508Z"
    }
   },
   "outputs": [
    {
     "name": "stdout",
     "output_type": "stream",
     "text": [
      "['#regex', '#pandas', '#python']\n"
     ]
    }
   ],
   "source": [
    "tweet = \"@nltk Text analysis is awesome! #regex #pandas #python\"\n",
    "\n",
    "print([word for word in tweet.split() if word.startswith('#')])"
   ]
  },
  {
   "cell_type": "markdown",
   "metadata": {},
   "source": [
    "## Finding specific words"
   ]
  },
  {
   "cell_type": "markdown",
   "metadata": {},
   "source": [
    "### Hashtags"
   ]
  },
  {
   "cell_type": "code",
   "execution_count": 6,
   "metadata": {
    "ExecuteTime": {
     "end_time": "2017-08-02T11:44:45.909922Z",
     "start_time": "2017-08-02T11:44:45.896485Z"
    }
   },
   "outputs": [
    {
     "data": {
      "text/plain": [
       "['#UNSG']"
      ]
     },
     "execution_count": 6,
     "metadata": {},
     "output_type": "execute_result"
    }
   ],
   "source": [
    "[ w for w in text11 if w.startswith('#')]"
   ]
  },
  {
   "cell_type": "markdown",
   "metadata": {},
   "source": [
    "### Callouts"
   ]
  },
  {
   "cell_type": "code",
   "execution_count": 7,
   "metadata": {
    "ExecuteTime": {
     "end_time": "2017-08-02T11:45:06.020207Z",
     "start_time": "2017-08-02T11:45:06.012120Z"
    }
   },
   "outputs": [
    {
     "data": {
      "text/plain": [
       "['@UN', '@UN_Women', '@']"
      ]
     },
     "execution_count": 7,
     "metadata": {},
     "output_type": "execute_result"
    }
   ],
   "source": [
    "[w for w in text11 if w.startswith('@')]"
   ]
  },
  {
   "cell_type": "markdown",
   "metadata": {},
   "source": [
    "## @[A-Za-z0-9_]+"
   ]
  },
  {
   "cell_type": "code",
   "execution_count": 10,
   "metadata": {
    "ExecuteTime": {
     "end_time": "2017-08-02T11:48:07.268352Z",
     "start_time": "2017-08-02T11:48:07.259551Z"
    }
   },
   "outputs": [
    {
     "data": {
      "text/plain": [
       "['@UN', '@UN_Women', '@']"
      ]
     },
     "execution_count": 10,
     "metadata": {},
     "output_type": "execute_result"
    }
   ],
   "source": [
    "text11 = text10.split(' ')\n",
    "[w for w in text11 if w.startswith('@')]"
   ]
  },
  {
   "cell_type": "code",
   "execution_count": 12,
   "metadata": {
    "ExecuteTime": {
     "end_time": "2017-08-02T11:48:56.228097Z",
     "start_time": "2017-08-02T11:48:56.207549Z"
    }
   },
   "outputs": [
    {
     "data": {
      "text/plain": [
       "['@UN', '@UN_Women']"
      ]
     },
     "execution_count": 12,
     "metadata": {},
     "output_type": "execute_result"
    }
   ],
   "source": [
    "import re\n",
    "[w for w in text11 if re.search('@[A-Za-z0-9_]+',w)] ## that repeats at least once, but any number of times"
   ]
  },
  {
   "cell_type": "markdown",
   "metadata": {},
   "source": [
    "## Meta-characters: Character matches"
   ]
  },
  {
   "cell_type": "markdown",
   "metadata": {},
   "source": [
    "\\* : wildcard, matches a single character  \n",
    "^ : start of a string  \n",
    "$ : end of a string    \n",
    "[] : matches one of the set of characters within []  \n",
    "[a-z] : matches one of the range of characters a,b,... z  \n",
    "[^abc] : matches a character that is not a,b, or c  \n",
    "a|b : matches either a or b, where a and b are strings  \n",
    "() : scoping for operators  \n",
    "\\ : Escape character for special characters (\\t, \\n, \\b)  \n",
    "\\b : Matches word boundary\n",
    "\\d : Any digit, equivalent to [0-9]  \n",
    "\\D : Any non-digit, equivalent to [^0-9]  \n",
    "\\s : Any whitespace, equivalent to [ \\t\\n\\r\\f\\v]  \n",
    "\\S : Any non-whitespace, equivalent to [^ \\t\\n\\r\\f\\v]  \n",
    "\\w : Alphanumeric character, equivalent to [a-zA-Z0-9_]  \n",
    "\\W : Non-alphanumeric, equivalent to [^a-zA-Z0-9_]  \n",
    "\n",
    "\\* : matches zero or more occurences  \n",
    "\\+ : matches one or more occurences  \n",
    "? : matches zero or one occurences  \n",
    "{n} : exactly n repetitions, n>=0  \n",
    "{n,} : at least n repetitions  \n",
    "{,n} : at most n repetitions  \n",
    "{m,n} : at least m and at most n repetitions  "
   ]
  },
  {
   "cell_type": "code",
   "execution_count": 13,
   "metadata": {
    "ExecuteTime": {
     "end_time": "2017-08-02T11:56:54.207569Z",
     "start_time": "2017-08-02T11:56:54.193392Z"
    },
    "collapsed": true
   },
   "outputs": [],
   "source": [
    "text12 = 'ouagadougou'"
   ]
  },
  {
   "cell_type": "code",
   "execution_count": 14,
   "metadata": {
    "ExecuteTime": {
     "end_time": "2017-08-02T11:57:06.394754Z",
     "start_time": "2017-08-02T11:57:06.382941Z"
    }
   },
   "outputs": [
    {
     "data": {
      "text/plain": [
       "['o', 'u', 'a', 'a', 'o', 'u', 'o', 'u']"
      ]
     },
     "execution_count": 14,
     "metadata": {},
     "output_type": "execute_result"
    }
   ],
   "source": [
    "re.findall(r'[aeiou]',text12)"
   ]
  },
  {
   "cell_type": "code",
   "execution_count": 17,
   "metadata": {
    "ExecuteTime": {
     "end_time": "2017-08-02T11:57:44.814770Z",
     "start_time": "2017-08-02T11:57:44.807673Z"
    }
   },
   "outputs": [
    {
     "data": {
      "text/plain": [
       "['g', 'd', 'g']"
      ]
     },
     "execution_count": 17,
     "metadata": {},
     "output_type": "execute_result"
    }
   ],
   "source": [
    "re.findall(r'[^aeiou]',text12)## not a,e,i,o,u"
   ]
  },
  {
   "cell_type": "markdown",
   "metadata": {},
   "source": [
    "## Case Study: Regular expression for Dates"
   ]
  },
  {
   "cell_type": "markdown",
   "metadata": {},
   "source": [
    "### Date variations for 23r October 2002"
   ]
  },
  {
   "cell_type": "markdown",
   "metadata": {},
   "source": [
    "23-10-2002  \n",
    "23/10/2002  \n",
    "23/10/02  \n",
    "10/23/2002  \n",
    "23 Oct 2002  \n",
    "23 October 2002  \n",
    "Oct 23, 2002  \n",
    "October 23, 2002  \n"
   ]
  },
  {
   "cell_type": "markdown",
   "metadata": {},
   "source": [
    "### \\d{2}[/-]\\d{2}[/-]\\d{4}"
   ]
  },
  {
   "cell_type": "code",
   "execution_count": 20,
   "metadata": {
    "ExecuteTime": {
     "end_time": "2017-08-02T12:02:54.224982Z",
     "start_time": "2017-08-02T12:02:54.218711Z"
    }
   },
   "outputs": [],
   "source": [
    "dates = '23-10-2002  23/10/2002  23/10/02  10/23/2002  23 Oct 2002  23 October 2002  Oct 23, 2002  October 23, 2002  '"
   ]
  },
  {
   "cell_type": "code",
   "execution_count": 22,
   "metadata": {
    "ExecuteTime": {
     "end_time": "2017-08-02T12:03:48.642387Z",
     "start_time": "2017-08-02T12:03:48.633306Z"
    }
   },
   "outputs": [
    {
     "data": {
      "text/plain": [
       "['23-10-2002', '23/10/2002', '10/23/2002']"
      ]
     },
     "execution_count": 22,
     "metadata": {},
     "output_type": "execute_result"
    }
   ],
   "source": [
    "re.findall(r'\\d{2}[/-]\\d{2}[/-]\\d{4}',dates)"
   ]
  },
  {
   "cell_type": "code",
   "execution_count": 23,
   "metadata": {
    "ExecuteTime": {
     "end_time": "2017-08-02T12:03:54.391298Z",
     "start_time": "2017-08-02T12:03:54.383574Z"
    }
   },
   "outputs": [
    {
     "data": {
      "text/plain": [
       "['23-10-2002', '23/10/2002', '23/10/02', '10/23/2002']"
      ]
     },
     "execution_count": 23,
     "metadata": {},
     "output_type": "execute_result"
    }
   ],
   "source": [
    "re.findall(r'\\d{2}[/-]\\d{2}[/-]\\d{2,4}',dates)"
   ]
  },
  {
   "cell_type": "code",
   "execution_count": 24,
   "metadata": {
    "ExecuteTime": {
     "end_time": "2017-08-02T12:04:20.943741Z",
     "start_time": "2017-08-02T12:04:20.934960Z"
    }
   },
   "outputs": [
    {
     "data": {
      "text/plain": [
       "['23-10-2002', '23/10/2002', '23/10/02', '10/23/2002']"
      ]
     },
     "execution_count": 24,
     "metadata": {},
     "output_type": "execute_result"
    }
   ],
   "source": [
    "re.findall(r'\\d{1,2}[/-]\\d{1,2}[/-]\\d{2,4}',dates)"
   ]
  },
  {
   "cell_type": "code",
   "execution_count": 27,
   "metadata": {
    "ExecuteTime": {
     "end_time": "2017-08-02T12:06:21.372184Z",
     "start_time": "2017-08-02T12:06:21.363770Z"
    }
   },
   "outputs": [
    {
     "data": {
      "text/plain": [
       "['Oct']"
      ]
     },
     "execution_count": 27,
     "metadata": {},
     "output_type": "execute_result"
    }
   ],
   "source": [
    "re.findall(r'\\d{2} (Jan|Feb|Mar|Apr|May|Jun|Jul|Aug|Sep|Oct|Nov|Dec) \\d{4}',dates) ## only extract the word matched"
   ]
  },
  {
   "cell_type": "code",
   "execution_count": 37,
   "metadata": {
    "ExecuteTime": {
     "end_time": "2017-08-02T15:34:46.154995Z",
     "start_time": "2017-08-02T15:34:46.109269Z"
    }
   },
   "outputs": [
    {
     "data": {
      "text/plain": [
       "['23 Oct 2002']"
      ]
     },
     "execution_count": 37,
     "metadata": {},
     "output_type": "execute_result"
    }
   ],
   "source": [
    "re.findall(r'\\d{2} (?:Jan|Feb|Mar|Apr|May|Jun|Jul|Aug|Sep|Oct|Nov|Dec) \\d{4}',dates) ## we need to add ?:"
   ]
  },
  {
   "cell_type": "code",
   "execution_count": 38,
   "metadata": {
    "ExecuteTime": {
     "end_time": "2017-08-02T15:34:47.064566Z",
     "start_time": "2017-08-02T15:34:47.056825Z"
    }
   },
   "outputs": [
    {
     "data": {
      "text/plain": [
       "['23 Oct 2002', '23 October 2002']"
      ]
     },
     "execution_count": 38,
     "metadata": {},
     "output_type": "execute_result"
    }
   ],
   "source": [
    "re.findall(r'\\d{2} (?:Jan|Feb|Mar|Apr|May|Jun|Jul|Aug|Sep|Oct|Nov|Dec)[a-z]* \\d{4}',dates) ## including small letters"
   ]
  },
  {
   "cell_type": "code",
   "execution_count": 49,
   "metadata": {
    "ExecuteTime": {
     "end_time": "2017-08-02T15:37:48.416455Z",
     "start_time": "2017-08-02T15:37:48.406617Z"
    }
   },
   "outputs": [
    {
     "data": {
      "text/plain": [
       "['23 Oct 2002', '23 October 2002', 'Oct 23, 2002', 'October 23, 2002']"
      ]
     },
     "execution_count": 49,
     "metadata": {},
     "output_type": "execute_result"
    }
   ],
   "source": [
    "re.findall(r'(?:\\d{2} )?(?:Jan|Feb|Mar|Apr|May|Jun|Jul|Aug|Sep|Oct|Nov|Dec)[a-z]* (?:\\d{2}, )?\\d{4}',dates)"
   ]
  },
  {
   "cell_type": "code",
   "execution_count": 36,
   "metadata": {
    "ExecuteTime": {
     "end_time": "2017-08-02T12:09:20.440706Z",
     "start_time": "2017-08-02T12:09:20.410697Z"
    }
   },
   "outputs": [
    {
     "data": {
      "text/plain": [
       "['23 Oct 2002', '23 October 2002', 'Oct 23, 2002', 'October 23, 2002']"
      ]
     },
     "execution_count": 36,
     "metadata": {},
     "output_type": "execute_result"
    }
   ],
   "source": [
    "re.findall(r'(?:\\d{1,2} )?(?:Jan|Feb|Mar|Apr|May|Jun|Jul|Aug|Sep|Oct|Nov|Dec)[a-z]* (?:\\d{1,2}, )?\\d{4}',dates)"
   ]
  },
  {
   "cell_type": "code",
   "execution_count": null,
   "metadata": {
    "collapsed": true
   },
   "outputs": [],
   "source": []
  }
 ],
 "metadata": {
  "anaconda-cloud": {},
  "kernelspec": {
   "display_name": "Python [conda root]",
   "language": "python",
   "name": "conda-root-py"
  },
  "language_info": {
   "codemirror_mode": {
    "name": "ipython",
    "version": 3
   },
   "file_extension": ".py",
   "mimetype": "text/x-python",
   "name": "python",
   "nbconvert_exporter": "python",
   "pygments_lexer": "ipython3",
   "version": "3.5.2"
  },
  "latex_envs": {
   "LaTeX_envs_menu_present": true,
   "autocomplete": true,
   "bibliofile": "biblio.bib",
   "cite_by": "apalike",
   "current_citInitial": 1,
   "eqLabelWithNumbers": true,
   "eqNumInitial": 1,
   "hotkeys": {
    "equation": "Ctrl-E",
    "itemize": "Ctrl-I"
   },
   "labels_anchors": false,
   "latex_user_defs": false,
   "report_style_numbering": false,
   "user_envs_cfg": false
  }
 },
 "nbformat": 4,
 "nbformat_minor": 2
}
