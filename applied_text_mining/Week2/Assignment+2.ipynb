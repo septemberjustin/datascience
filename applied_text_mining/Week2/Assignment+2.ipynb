{
 "cells": [
  {
   "cell_type": "markdown",
   "metadata": {},
   "source": [
    "---\n",
    "\n",
    "_You are currently looking at **version 1.0** of this notebook. To download notebooks and datafiles, as well as get help on Jupyter notebooks in the Coursera platform, visit the [Jupyter Notebook FAQ](https://www.coursera.org/learn/python-text-mining/resources/d9pwm) course resource._\n",
    "\n",
    "---"
   ]
  },
  {
   "cell_type": "markdown",
   "metadata": {},
   "source": [
    "# Assignment 2 - Introduction to NLTK\n",
    "\n",
    "In part 1 of this assignment you will use nltk to explore the Herman Melville novel Moby Dick. Then in part 2 you will create a spelling recommender function that uses nltk to find words similar to the misspelling. "
   ]
  },
  {
   "cell_type": "markdown",
   "metadata": {},
   "source": [
    "## Part 1 - Analyzing Moby Dick"
   ]
  },
  {
   "cell_type": "code",
   "execution_count": 1,
   "metadata": {
    "ExecuteTime": {
     "end_time": "2017-08-06T23:45:53.801065Z",
     "start_time": "2017-08-06T23:45:48.334795Z"
    }
   },
   "outputs": [],
   "source": [
    "import nltk\n",
    "#from nltk.book import *\n",
    "import pandas as pd\n",
    "import numpy as np\n",
    "from nltk.stem import WordNetLemmatizer\n",
    "import re\n",
    "import operator\n",
    "from nltk.tokenize import sent_tokenize\n",
    "from nltk.tokenize import word_tokenize\n",
    "from nltk.corpus import words\n",
    "#import jellyfish as jf\n",
    "#import Levenshtein\n",
    "\n",
    "    \n",
    "# If you would like to work with the raw text you can use 'moby_raw'\n",
    "with open('moby.txt', 'r') as f:\n",
    "    moby_raw = f.read()\n",
    "    \n",
    "# If you would like to work with the novel in nltk.Text format you can use 'text1'\n",
    "moby_tokens = nltk.word_tokenize(moby_raw)\n",
    "text1 = nltk.Text(moby_tokens)"
   ]
  },
  {
   "cell_type": "markdown",
   "metadata": {},
   "source": [
    "### Example 1\n",
    "\n",
    "How many tokens (words and punctuation symbols) are in text1?\n",
    "\n",
    "*This function should return an integer.*"
   ]
  },
  {
   "cell_type": "code",
   "execution_count": null,
   "metadata": {
    "ExecuteTime": {
     "end_time": "2017-08-06T23:38:00.231407Z",
     "start_time": "2017-08-06T23:37:57.024874Z"
    }
   },
   "outputs": [],
   "source": [
    "def example_one():\n",
    "        #return len(moby_tokens)\n",
    "        #return len(text1)\n",
    "    return len(nltk.word_tokenize(moby_raw)) # or alternatively len(text1)\n",
    "\n",
    "example_one()"
   ]
  },
  {
   "cell_type": "markdown",
   "metadata": {},
   "source": [
    "### Example 2\n",
    "\n",
    "How many unique tokens (unique words and punctuation) does text1 have?\n",
    "\n",
    "*This function should return an integer.*"
   ]
  },
  {
   "cell_type": "code",
   "execution_count": null,
   "metadata": {
    "ExecuteTime": {
     "end_time": "2017-08-06T23:38:03.336336Z",
     "start_time": "2017-08-06T23:38:00.234899Z"
    }
   },
   "outputs": [],
   "source": [
    "def example_two():\n",
    "    # return len(set(moby_tokens))\n",
    "    # return len(set(text1))\n",
    "    return len(set(nltk.word_tokenize(moby_raw))) # or alternatively len(set(text1))\n",
    "\n",
    "example_two()"
   ]
  },
  {
   "cell_type": "markdown",
   "metadata": {},
   "source": [
    "### Example 3\n",
    "\n",
    "After lemmatizing the verbs, how many unique tokens does text1 have?\n",
    "\n",
    "*This function should return an integer.*"
   ]
  },
  {
   "cell_type": "code",
   "execution_count": null,
   "metadata": {
    "ExecuteTime": {
     "end_time": "2017-08-06T23:38:09.882519Z",
     "start_time": "2017-08-06T23:38:03.339878Z"
    }
   },
   "outputs": [],
   "source": [
    "def example_three():\n",
    "\n",
    "    lemmatizer = WordNetLemmatizer()\n",
    "    lemmatized = [lemmatizer.lemmatize(w,'v') for w in text1]\n",
    "\n",
    "    return len(set(lemmatized))\n",
    "\n",
    "example_three()"
   ]
  },
  {
   "cell_type": "markdown",
   "metadata": {},
   "source": [
    "### Question 1\n",
    "\n",
    "What is the lexical diversity of the given text input? (i.e. ratio of unique tokens to the total number of tokens)\n",
    "\n",
    "*This function should return a float.*"
   ]
  },
  {
   "cell_type": "code",
   "execution_count": null,
   "metadata": {
    "ExecuteTime": {
     "end_time": "2017-08-06T23:38:11.716871Z",
     "start_time": "2017-08-06T23:38:11.503968Z"
    }
   },
   "outputs": [],
   "source": [
    "def answer_one():\n",
    "    \n",
    "    return round(len(set(text1))/len(text1),3)\n",
    "\n",
    "answer_one()"
   ]
  },
  {
   "cell_type": "markdown",
   "metadata": {},
   "source": [
    "### Question 2\n",
    "\n",
    "What percentage of tokens is 'whale'or 'Whale'?\n",
    "\n",
    "*This function should return a float.*"
   ]
  },
  {
   "cell_type": "code",
   "execution_count": null,
   "metadata": {
    "ExecuteTime": {
     "end_time": "2017-08-06T23:38:14.085860Z",
     "start_time": "2017-08-06T23:38:13.391718Z"
    }
   },
   "outputs": [],
   "source": [
    "def answer_two():\n",
    "    \n",
    "    test = [w for w in text1 if re.search(r'^[Ww]hale$',w)] \n",
    "    return ( len(test)/len(text1) ) * 100\n",
    "\n",
    "answer_two()"
   ]
  },
  {
   "cell_type": "markdown",
   "metadata": {},
   "source": [
    "### Question 3\n",
    "\n",
    "What are the 20 most frequently occurring (unique) tokens in the text? What is their frequency?\n",
    "\n",
    "*This function should return a list of 20 tuples where each tuple is of the form `(token, frequency)`. The list should be sorted in descending order of frequency.*"
   ]
  },
  {
   "cell_type": "code",
   "execution_count": 13,
   "metadata": {
    "ExecuteTime": {
     "end_time": "2017-08-06T23:57:32.708598Z",
     "start_time": "2017-08-06T23:57:32.392539Z"
    }
   },
   "outputs": [
    {
     "data": {
      "text/plain": [
       "[(',', 19204),\n",
       " ('the', 13715),\n",
       " ('.', 7308),\n",
       " ('of', 6513),\n",
       " ('and', 6010),\n",
       " ('a', 4545),\n",
       " ('to', 4515),\n",
       " (';', 4173),\n",
       " ('in', 3908),\n",
       " ('that', 2978),\n",
       " ('his', 2459),\n",
       " ('it', 2196),\n",
       " ('I', 2097),\n",
       " ('!', 1767),\n",
       " ('is', 1722),\n",
       " ('--', 1713),\n",
       " ('with', 1659),\n",
       " ('he', 1658),\n",
       " ('was', 1639),\n",
       " ('as', 1620)]"
      ]
     },
     "execution_count": 13,
     "metadata": {},
     "output_type": "execute_result"
    }
   ],
   "source": [
    "def answer_three():\n",
    "    dist = nltk.FreqDist(text1)\n",
    "    sorted_x = sorted(dist.items(),key=operator.itemgetter(1))\n",
    "    sorted_x.reverse()\n",
    "    \n",
    "    return sorted_x[:20]\n",
    "\n",
    "answer_three()"
   ]
  },
  {
   "cell_type": "markdown",
   "metadata": {},
   "source": [
    "### Question 4\n",
    "\n",
    "What tokens have a length of greater than 5 and frequency of more than 150?\n",
    "\n",
    "*This function should return a sorted list of the tokens that match the above constraints. To sort your list, use `sorted()`*"
   ]
  },
  {
   "cell_type": "code",
   "execution_count": null,
   "metadata": {
    "ExecuteTime": {
     "end_time": "2017-08-06T23:38:17.822629Z",
     "start_time": "2017-08-06T23:38:17.517599Z"
    }
   },
   "outputs": [],
   "source": [
    "def answer_four():\n",
    "    dist = nltk.FreqDist(text1)\n",
    "    vocab1 = dist.keys()\n",
    "    freqwords = [w for w in vocab1 if len(w) > 5 and dist[w] > 150]\n",
    "    return sorted(freqwords)\n",
    "\n",
    "answer_four()"
   ]
  },
  {
   "cell_type": "markdown",
   "metadata": {},
   "source": [
    "### Question 5\n",
    "\n",
    "Find the longest word in text1 and that word's length.\n",
    "\n",
    "*This function should return a tuple `(longest_word, length)`.*"
   ]
  },
  {
   "cell_type": "code",
   "execution_count": null,
   "metadata": {
    "ExecuteTime": {
     "end_time": "2017-08-06T23:38:18.749311Z",
     "start_time": "2017-08-06T23:38:18.495703Z"
    }
   },
   "outputs": [],
   "source": [
    "def answer_five():\n",
    "\n",
    "    length = [len(w) for w in text1]\n",
    "    return tuple((text1[length.index(max(length))],max(length)))\n",
    "\n",
    "answer_five()"
   ]
  },
  {
   "cell_type": "markdown",
   "metadata": {},
   "source": [
    "### Question 6\n",
    "\n",
    "What unique words have a frequency of more than 2000? What is their frequency?\n",
    "\n",
    "\"Hint:  you may want to use `isalpha()` to check if the token is a word and not punctuation.\"\n",
    "\n",
    "*This function should return a list of tuples of the form `(frequency, word)` sorted in descending order of frequency.*"
   ]
  },
  {
   "cell_type": "code",
   "execution_count": 40,
   "metadata": {
    "ExecuteTime": {
     "end_time": "2017-08-07T00:05:14.099139Z",
     "start_time": "2017-08-07T00:05:13.788632Z"
    }
   },
   "outputs": [
    {
     "data": {
      "text/plain": [
       "[(13715, 'the'),\n",
       " (6513, 'of'),\n",
       " (6010, 'and'),\n",
       " (4545, 'a'),\n",
       " (4515, 'to'),\n",
       " (3908, 'in'),\n",
       " (2978, 'that'),\n",
       " (2459, 'his'),\n",
       " (2196, 'it'),\n",
       " (2097, 'I')]"
      ]
     },
     "execution_count": 40,
     "metadata": {},
     "output_type": "execute_result"
    }
   ],
   "source": [
    "def answer_six():\n",
    "    fun = lambda x: str.isalpha(x)\n",
    "    \n",
    "    dist = nltk.FreqDist(text1)\n",
    "\n",
    "    final_list = list(map(fun,list(dist.keys())))\n",
    "    final_keys = np.asarray(list(dist.keys()))[final_list]\n",
    "    dist_again = { dist[your_key]: your_key  for your_key in final_keys if dist[your_key] > 2000}\n",
    "    sorted_x = sorted(dist_again.items(),key=operator.itemgetter(0))\n",
    "    sorted_x.reverse()\n",
    "    \n",
    "    return sorted_x\n",
    "\n",
    "answer_six()"
   ]
  },
  {
   "cell_type": "markdown",
   "metadata": {},
   "source": [
    "### Question 7\n",
    "\n",
    "What is the average number of tokens per sentence?\n",
    "\n",
    "*This function should return a float.*"
   ]
  },
  {
   "cell_type": "code",
   "execution_count": null,
   "metadata": {
    "ExecuteTime": {
     "end_time": "2017-08-06T23:38:25.094843Z",
     "start_time": "2017-08-06T23:38:21.135706Z"
    }
   },
   "outputs": [],
   "source": [
    "def answer_seven():\n",
    "\n",
    "    moby_sentence = sent_tokenize(moby_raw)\n",
    "    again = [word_tokenize(i) for i in moby_sentence]\n",
    "    numbers = []\n",
    "    for i in again:\n",
    "        numbers.append(len(i))\n",
    "    return np.mean(numbers)\n",
    "\n",
    "answer_seven()"
   ]
  },
  {
   "cell_type": "markdown",
   "metadata": {},
   "source": [
    "### Question 8\n",
    "\n",
    "What are the 5 most frequent parts of speech in this text? What is their frequency?\n",
    "\n",
    "*This function should return a list of tuples of the form `(part_of_speech, frequency)` sorted in descending order of frequency.*"
   ]
  },
  {
   "cell_type": "code",
   "execution_count": null,
   "metadata": {
    "ExecuteTime": {
     "end_time": "2017-08-06T23:39:27.110323Z",
     "start_time": "2017-08-06T23:39:08.471992Z"
    }
   },
   "outputs": [],
   "source": [
    "def answer_eight():\n",
    "    parts_of_speech = nltk.pos_tag(text1)\n",
    "    count = nltk.FreqDist(tag for (word, tag) in parts_of_speech)\n",
    "    answer = count.most_common()[:6]\n",
    "    output = [i for i in answer if i[0]!=',']\n",
    "    return output\n",
    "\n",
    "answer_eight()"
   ]
  },
  {
   "cell_type": "markdown",
   "metadata": {},
   "source": [
    "## Part 2 - Spelling Recommender\n",
    "\n",
    "For this part of the assignment you will create three different spelling recommenders, that each take a list of misspelled words and recommends a correctly spelled word for every word in the list.\n",
    "\n",
    "For every misspelled word, the recommender should find find the word in `correct_spellings` that has the shortest distance*, and starts with the same letter as the misspelled word, and return that word as a recommendation.\n",
    "\n",
    "*Each of the three different recommenders will use a different distance measure (outlined below).\n",
    "\n",
    "Each of the recommenders should provide recommendations for the three default words provided: `['cormulent', 'incendenece', 'validrate']`."
   ]
  },
  {
   "cell_type": "markdown",
   "metadata": {},
   "source": [
    "### Question 9\n",
    "\n",
    "For this recommender, your function should provide recommendations for the three default words provided above using the following distance metric:\n",
    "\n",
    "**[Jaccard distance](https://en.wikipedia.org/wiki/Jaccard_index) on the trigrams of the two words.**\n",
    "\n",
    "*This function should return a list of length three:\n",
    "`['cormulent_reccomendation', 'incendenece_reccomendation', 'validrate_reccomendation']`.*"
   ]
  },
  {
   "cell_type": "code",
   "execution_count": 10,
   "metadata": {
    "ExecuteTime": {
     "end_time": "2017-08-06T23:55:50.129142Z",
     "start_time": "2017-08-06T23:55:48.687064Z"
    }
   },
   "outputs": [
    {
     "data": {
      "text/plain": [
       "['corpulent', 'indecence', 'validate']"
      ]
     },
     "execution_count": 10,
     "metadata": {},
     "output_type": "execute_result"
    }
   ],
   "source": [
    "def answer_nine(entries=['cormulent', 'incendenece', 'validrate']):\n",
    "    correct_spellings = words.words()\n",
    "    f = lambda x: x[0].lower()\n",
    "    final=[]\n",
    "    for j in entries:\n",
    "        word = j\n",
    "        first_letter=np.array(list(map(f,correct_spellings)))\n",
    "        indx = np.where(first_letter==word[0])\n",
    "        correct_spellings = np.asarray(correct_spellings)\n",
    "        dictionary = correct_spellings[indx]\n",
    "\n",
    "        set1 = set(nltk.ngrams(word,n=3))\n",
    "        s=1\n",
    "        for spelling in dictionary:\n",
    "            set_ex = set(nltk.ngrams(spelling,n=3))\n",
    "            if nltk.distance.jaccard_distance(set1,set_ex) < s:\n",
    "                s=nltk.distance.jaccard_distance(set1,set_ex)\n",
    "                answer = spelling\n",
    "        final.append(answer)\n",
    "    return final\n",
    "    \n",
    "answer_nine()"
   ]
  },
  {
   "cell_type": "markdown",
   "metadata": {},
   "source": [
    "### Question 10\n",
    "\n",
    "For this recommender, your function should provide recommendations for the three default words provided above using the following distance metric:\n",
    "\n",
    "**[Jaccard distance](https://en.wikipedia.org/wiki/Jaccard_index) on the 4-grams of the two words.**\n",
    "\n",
    "*This function should return a list of length three:\n",
    "`['cormulent_reccomendation', 'incendenece_reccomendation', 'validrate_reccomendation']`.*"
   ]
  },
  {
   "cell_type": "code",
   "execution_count": 11,
   "metadata": {
    "ExecuteTime": {
     "end_time": "2017-08-06T23:55:51.527058Z",
     "start_time": "2017-08-06T23:55:50.132278Z"
    }
   },
   "outputs": [
    {
     "data": {
      "text/plain": [
       "['cormus', 'incendiary', 'valid']"
      ]
     },
     "execution_count": 11,
     "metadata": {},
     "output_type": "execute_result"
    }
   ],
   "source": [
    "def answer_ten(entries=['cormulent', 'incendenece', 'validrate']):\n",
    "    correct_spellings = words.words()\n",
    "    f = lambda x: x[0].lower()\n",
    "    final=[]\n",
    "    for j in entries:\n",
    "        word = j\n",
    "        first_letter=np.array(list(map(f,correct_spellings)))\n",
    "        indx = np.where(first_letter==word[0])\n",
    "        correct_spellings = np.asarray(correct_spellings)\n",
    "        dictionary = correct_spellings[indx]\n",
    "\n",
    "        set1 = set(nltk.ngrams(word,n=4))\n",
    "        s=1\n",
    "        for spelling in dictionary:\n",
    "            set_ex = set(nltk.ngrams(spelling,n=4))\n",
    "            if nltk.distance.jaccard_distance(set1,set_ex) < s:\n",
    "                s=nltk.distance.jaccard_distance(set1,set_ex)\n",
    "                answer = spelling\n",
    "        final.append(answer)\n",
    "    return final\n",
    "    \n",
    "answer_ten()"
   ]
  },
  {
   "cell_type": "markdown",
   "metadata": {},
   "source": [
    "### Question 11\n",
    "\n",
    "For this recommender, your function should provide recommendations for the three default words provided above using the following distance metric:\n",
    "\n",
    "**[Edit distance on the two words with transpositions.](https://en.wikipedia.org/wiki/Damerau%E2%80%93Levenshtein_distance)**\n",
    "\n",
    "*This function should return a list of length three:\n",
    "`['cormulent_reccomendation', 'incendenece_reccomendation', 'validrate_reccomendation']`.*"
   ]
  },
  {
   "cell_type": "code",
   "execution_count": 12,
   "metadata": {
    "ExecuteTime": {
     "end_time": "2017-08-06T23:55:59.558963Z",
     "start_time": "2017-08-06T23:55:51.530602Z"
    }
   },
   "outputs": [
    {
     "data": {
      "text/plain": [
       "['corpulent', 'intendence', 'validate']"
      ]
     },
     "execution_count": 12,
     "metadata": {},
     "output_type": "execute_result"
    }
   ],
   "source": [
    "def answer_eleven(entries=['cormulent', 'incendenece', 'validrate']):\n",
    "    correct_spellings = words.words()\n",
    "    f = lambda x: x[0].lower()\n",
    "    final=[]\n",
    "    for j in entries:\n",
    "        word = j\n",
    "        first_letter=np.array(list(map(f,correct_spellings)))\n",
    "        indx = np.where(first_letter==word[0])\n",
    "        correct_spellings = np.asarray(correct_spellings)\n",
    "        dictionary = correct_spellings[indx]\n",
    "        s=10\n",
    "        for spelling in dictionary:\n",
    "            if nltk.distance.edit_distance(word,spelling) < s:\n",
    "                s=nltk.distance.edit_distance(word,spelling)\n",
    "                answer = spelling\n",
    "        final.append(answer)\n",
    "    return final\n",
    "    \n",
    "#    return # Your answer here \n",
    "    \n",
    "answer_eleven()"
   ]
  },
  {
   "cell_type": "code",
   "execution_count": null,
   "metadata": {
    "collapsed": true
   },
   "outputs": [],
   "source": []
  }
 ],
 "metadata": {
  "anaconda-cloud": {},
  "coursera": {
   "course_slug": "python-text-mining",
   "graded_item_id": "r35En",
   "launcher_item_id": "tCVfW",
   "part_id": "NTVgL"
  },
  "kernelspec": {
   "display_name": "Python [default]",
   "language": "python",
   "name": "python3"
  },
  "language_info": {
   "codemirror_mode": {
    "name": "ipython",
    "version": 3
   },
   "file_extension": ".py",
   "mimetype": "text/x-python",
   "name": "python",
   "nbconvert_exporter": "python",
   "pygments_lexer": "ipython3",
   "version": "3.5.2"
  },
  "latex_envs": {
   "LaTeX_envs_menu_present": true,
   "autocomplete": true,
   "bibliofile": "biblio.bib",
   "cite_by": "apalike",
   "current_citInitial": 1,
   "eqLabelWithNumbers": true,
   "eqNumInitial": 1,
   "hotkeys": {
    "equation": "Ctrl-E",
    "itemize": "Ctrl-I"
   },
   "labels_anchors": false,
   "latex_user_defs": false,
   "report_style_numbering": false,
   "user_envs_cfg": false
  }
 },
 "nbformat": 4,
 "nbformat_minor": 2
}
