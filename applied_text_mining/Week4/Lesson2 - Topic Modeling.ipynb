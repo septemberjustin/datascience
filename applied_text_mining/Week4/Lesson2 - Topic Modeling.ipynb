{
 "cells": [
  {
   "cell_type": "markdown",
   "metadata": {},
   "source": [
    "## What is Topic Modeling?\n",
    "\n",
    "- A coarse-level analysis of what's in a text collection\n",
    "- Topic : the subject (theme) of a discourse\n",
    "- Topics are represented as a word distribution\n",
    "- A document is assumed to be a mixture of topics"
   ]
  },
  {
   "cell_type": "markdown",
   "metadata": {},
   "source": [
    "## What is Topic Modeling? (2)\n",
    "- What's known:\n",
    "\n",
    "        The text collection or corpus\n",
    "        Number of topics\n",
    "\n",
    "- What's not known:\n",
    "\n",
    "        The actual topics\n",
    "        Topic distribution for each document"
   ]
  },
  {
   "cell_type": "markdown",
   "metadata": {},
   "source": [
    "## What is Topic Modeling? (3)\n",
    "- Essentially, text clustering problem\n",
    "\n",
    "        Documents and words clustered simultaneously\n",
    "        \n",
    "- Different topic modeling approaches available\n",
    "\n",
    "        Probabilistic Latent Semantic Analysis (PLSA) [Hoffman '99]\n",
    "        Latent Dirichlet Allocation (LDA) [Blei, Ng, and Jordan, '03]"
   ]
  },
  {
   "cell_type": "code",
   "execution_count": null,
   "metadata": {
    "collapsed": true
   },
   "outputs": [],
   "source": []
  }
 ],
 "metadata": {
  "kernelspec": {
   "display_name": "Python [conda root]",
   "language": "python",
   "name": "conda-root-py"
  },
  "language_info": {
   "codemirror_mode": {
    "name": "ipython",
    "version": 3
   },
   "file_extension": ".py",
   "mimetype": "text/x-python",
   "name": "python",
   "nbconvert_exporter": "python",
   "pygments_lexer": "ipython3",
   "version": "3.5.2"
  },
  "latex_envs": {
   "LaTeX_envs_menu_present": true,
   "autocomplete": true,
   "bibliofile": "biblio.bib",
   "cite_by": "apalike",
   "current_citInitial": 1,
   "eqLabelWithNumbers": true,
   "eqNumInitial": 1,
   "hotkeys": {
    "equation": "Ctrl-E",
    "itemize": "Ctrl-I"
   },
   "labels_anchors": false,
   "latex_user_defs": false,
   "report_style_numbering": false,
   "user_envs_cfg": false
  }
 },
 "nbformat": 4,
 "nbformat_minor": 2
}
