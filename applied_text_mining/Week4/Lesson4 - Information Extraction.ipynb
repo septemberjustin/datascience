{
 "cells": [
  {
   "cell_type": "markdown",
   "metadata": {},
   "source": [
    "## Information is hidden in free-text"
   ]
  },
  {
   "cell_type": "markdown",
   "metadata": {
    "ExecuteTime": {
     "end_time": "2017-08-03T23:15:22.157508Z",
     "start_time": "2017-08-03T23:15:22.139027Z"
    }
   },
   "source": [
    "- Most traditional transactional information is structured\n",
    "- Abundance of unstructured, freeform text\n",
    "- How to convert unstructured text to structured form?"
   ]
  },
  {
   "cell_type": "markdown",
   "metadata": {},
   "source": [
    "## Information Extraction\n",
    "\n",
    "- Goal : Identify and extract fields of interest from free text"
   ]
  },
  {
   "cell_type": "markdown",
   "metadata": {},
   "source": [
    "Title...Author... Reviewr... Date... Where..."
   ]
  },
  {
   "cell_type": "markdown",
   "metadata": {},
   "source": [
    "## Fields of Interest\n",
    "- Named entitles\n",
    "\n",
    "        [NEWS] People, places, Dates,...\n",
    "        [FINANCE] Money, Companies, ...\n",
    "        [MEDICINE] Disease, Drug...\n",
    "        \n",
    "- Relations\n",
    "\n",
    "        What happened to who, when, where..."
   ]
  },
  {
   "cell_type": "markdown",
   "metadata": {},
   "source": [
    "## Named Entity Recognition\n",
    "\n",
    "- Named entities: Noun phrases that are of specific type and refer to specific individuals, places, organizations,...\n",
    "- Named Entity Recognition: Technique(s) to identify all mentions of pre-defined named entities in text\n",
    "\n",
    "        Identify the mention / phrase: Boundary detection\n",
    "        Identify the type: Tagging / classification"
   ]
  },
  {
   "cell_type": "markdown",
   "metadata": {},
   "source": [
    "## Approaches to identify names entities\n",
    "- Depends on kinds of entities that need to be identified\n",
    "- For well-formatted fields like date, phone numbers: Regular expressions (Recall Week 1)\n",
    "- For other fields: typically a machine learning approach"
   ]
  },
  {
   "cell_type": "markdown",
   "metadata": {},
   "source": [
    "## Person, Organization , Location/GPE\n",
    "- standard NER task in NLP research community\n",
    "- Typically a four-class model\n",
    "\n",
    "        PER\n",
    "        ORG\n",
    "        LOC/GPE\n",
    "        Other/Outside(any other class)"
   ]
  },
  {
   "cell_type": "markdown",
   "metadata": {},
   "source": [
    "## Relation extraction\n",
    "\n",
    "- Identify relationships between named entities"
   ]
  },
  {
   "cell_type": "markdown",
   "metadata": {},
   "source": [
    "## Co-reference resolution\n",
    "- Disambiguate mentions and group mentions together"
   ]
  },
  {
   "cell_type": "markdown",
   "metadata": {},
   "source": [
    "## Question Answering\n",
    "- Given a question, find the most appropriate answer from the text\n",
    "\n",
    "        What does Erbitux treat?\n",
    "        Who gave Anita the rose?\n",
    "        \n",
    "- Builds on named entity recognition, relation extraction and co-reference resolution"
   ]
  },
  {
   "cell_type": "code",
   "execution_count": null,
   "metadata": {
    "collapsed": true
   },
   "outputs": [],
   "source": []
  }
 ],
 "metadata": {
  "anaconda-cloud": {},
  "kernelspec": {
   "display_name": "Python [conda root]",
   "language": "python",
   "name": "conda-root-py"
  },
  "language_info": {
   "codemirror_mode": {
    "name": "ipython",
    "version": 3
   },
   "file_extension": ".py",
   "mimetype": "text/x-python",
   "name": "python",
   "nbconvert_exporter": "python",
   "pygments_lexer": "ipython3",
   "version": "3.5.2"
  },
  "latex_envs": {
   "LaTeX_envs_menu_present": true,
   "autocomplete": true,
   "bibliofile": "biblio.bib",
   "cite_by": "apalike",
   "current_citInitial": 1,
   "eqLabelWithNumbers": true,
   "eqNumInitial": 1,
   "hotkeys": {
    "equation": "Ctrl-E",
    "itemize": "Ctrl-I"
   },
   "labels_anchors": false,
   "latex_user_defs": false,
   "report_style_numbering": false,
   "user_envs_cfg": false
  }
 },
 "nbformat": 4,
 "nbformat_minor": 2
}
