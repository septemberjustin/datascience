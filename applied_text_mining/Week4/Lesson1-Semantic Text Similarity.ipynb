{
 "cells": [
  {
   "cell_type": "markdown",
   "metadata": {},
   "source": [
    "## Which pair of words are most similar?"
   ]
  },
  {
   "cell_type": "markdown",
   "metadata": {
    "ExecuteTime": {
     "end_time": "2017-08-03T21:41:35.379967Z",
     "start_time": "2017-08-03T21:41:35.204799Z"
    }
   },
   "source": [
    "- deer, elk\n",
    "- deer, giraffe\n",
    "- deer, horse\n",
    "- deer, mouse"
   ]
  },
  {
   "cell_type": "markdown",
   "metadata": {},
   "source": [
    "### what can be quantify this similarity?"
   ]
  },
  {
   "cell_type": "markdown",
   "metadata": {},
   "source": [
    "## Applications of semantic similarity"
   ]
  },
  {
   "cell_type": "markdown",
   "metadata": {},
   "source": [
    "- Grouping similar words into semantic concepts\n",
    "- As a building block in natural language understanding tasks\n",
    "\n",
    "        Textual entailment\n",
    "        Paraphrasing"
   ]
  },
  {
   "cell_type": "markdown",
   "metadata": {},
   "source": [
    "## WordNet\n",
    "- Semantic dictionary of (mostly) English words, interlinked by semantic relations\n",
    "- Includes rich linguistic information\n",
    "\n",
    "        part of speech, word senses, synonyms, hypernyms/hyponyms, meronyms, derivationally related forms,...\n",
    "        \n",
    "- Machine-readable, freely available"
   ]
  },
  {
   "cell_type": "markdown",
   "metadata": {},
   "source": [
    "## Semantic similarity using WordNet\n",
    "- WordNet organizes information in a hierarchy\n",
    "- Many similarity measures use the hierarchy in some way\n",
    "- Verbs, nouns, adjectives all have separate hierarchies"
   ]
  },
  {
   "cell_type": "markdown",
   "metadata": {},
   "source": [
    "## Coming back to our deer example..!\n"
   ]
  },
  {
   "cell_type": "markdown",
   "metadata": {},
   "source": [
    "## Path Similarity\n",
    "- Find the shortest path between the two concepts\n",
    "- Similarity measure inversely related to path distance\n",
    "\n",
    "        PathSim(deer,elk) = 0.5 = 1/2\n",
    "        PathSim(deer,giraffe) = 0.33 = 1/3\n",
    "        PathSim(deer,horse) = 0.14 = 1/7"
   ]
  },
  {
   "cell_type": "markdown",
   "metadata": {},
   "source": [
    "## Lowest common subsumer (LCS)\n",
    "- Find the closest ancestor to both concepts\n",
    "\n",
    "        LCS(deer,elk) = deer\n",
    "        LCS(deer,giraffe) = ruminant\n",
    "        LCS(deer,horse) = ungulate"
   ]
  },
  {
   "cell_type": "markdown",
   "metadata": {},
   "source": [
    "## Lin Similarity\n",
    "- Similarity measure based on the information contained in the LCS of the two concepts\n",
    "\n",
    "        LinSim(u,v) = 2 * log P(LCS(u,v))/(log P(u) + log P(v))\n",
    "\n",
    "- P(u) is given by the information content learnt over a large corpus."
   ]
  },
  {
   "cell_type": "markdown",
   "metadata": {},
   "source": [
    "## How to do it in Python?\n",
    "\n",
    "WordNet easily imported into Python through NLTK"
   ]
  },
  {
   "cell_type": "code",
   "execution_count": 1,
   "metadata": {
    "ExecuteTime": {
     "end_time": "2017-08-07T13:45:41.929481Z",
     "start_time": "2017-08-07T13:45:39.434340Z"
    },
    "collapsed": true
   },
   "outputs": [],
   "source": [
    "import nltk\n",
    "from nltk.corpus import wordnet as wn"
   ]
  },
  {
   "cell_type": "markdown",
   "metadata": {},
   "source": [
    "Find appropriate sense of the words"
   ]
  },
  {
   "cell_type": "code",
   "execution_count": 2,
   "metadata": {
    "ExecuteTime": {
     "end_time": "2017-08-07T13:45:45.673223Z",
     "start_time": "2017-08-07T13:45:41.931817Z"
    },
    "collapsed": true
   },
   "outputs": [],
   "source": [
    "deer = wn.synset('deer.n.01')\n",
    "elk = wn.synset('elk.n.01')\n"
   ]
  },
  {
   "cell_type": "markdown",
   "metadata": {},
   "source": [
    "Find path similarity"
   ]
  },
  {
   "cell_type": "code",
   "execution_count": 3,
   "metadata": {
    "ExecuteTime": {
     "end_time": "2017-08-07T13:45:47.896880Z",
     "start_time": "2017-08-07T13:45:47.859467Z"
    }
   },
   "outputs": [
    {
     "data": {
      "text/plain": [
       "0.5"
      ]
     },
     "execution_count": 3,
     "metadata": {},
     "output_type": "execute_result"
    }
   ],
   "source": [
    "deer.path_similarity(elk)\n",
    "#deer.path_similarity(horse)"
   ]
  },
  {
   "cell_type": "markdown",
   "metadata": {},
   "source": [
    "Use an information creteria to find Lin similarity"
   ]
  },
  {
   "cell_type": "code",
   "execution_count": 8,
   "metadata": {
    "ExecuteTime": {
     "end_time": "2017-08-03T22:10:05.939246Z",
     "start_time": "2017-08-03T22:10:05.116182Z"
    }
   },
   "outputs": [
    {
     "data": {
      "text/plain": [
       "0.8623778273893673"
      ]
     },
     "execution_count": 8,
     "metadata": {},
     "output_type": "execute_result"
    }
   ],
   "source": [
    "from nltk.corpus import wordnet_ic\n",
    "brown_ic = wordnet_ic.ic('ic-brown.dat')\n",
    "\n",
    "deer.lin_similarity(elk,brown_ic)\n"
   ]
  },
  {
   "cell_type": "markdown",
   "metadata": {},
   "source": [
    "## Collocations and Distributional similarity\n",
    "- \"You know a word by the company it keeps\" [Firth, 1957]\n",
    "- Two words that frequently appears in similar contexts are more likely to be semantically related\n",
    "\n",
    "        The friends met at a cafe.\n",
    "        Shyam met Ray at a pizzeria.\n",
    "        Let's meet up near the coffee shop.\n",
    "        The secret meeting at the restaurant soon became public."
   ]
  },
  {
   "cell_type": "markdown",
   "metadata": {},
   "source": [
    "## Distributional Similarity: Context\n",
    "- Words before, after, within a small window\n",
    "- Parts of speech of words before, after, in a small window\n",
    "- Specific syntactic relation to the target word\n",
    "- Words in the same sentence, same document, ..."
   ]
  },
  {
   "cell_type": "markdown",
   "metadata": {},
   "source": [
    "## Strength of association between words"
   ]
  },
  {
   "cell_type": "markdown",
   "metadata": {
    "ExecuteTime": {
     "end_time": "2017-08-03T22:15:29.144123Z",
     "start_time": "2017-08-03T22:15:29.098497Z"
    }
   },
   "source": [
    "- How frequent are these?\n",
    "\n",
    "        Not similar if two words don't occur together often\n",
    "\n",
    "- Also important to see how frequent are individual words\n",
    "\n",
    "        'the' is very frequent, so high chances it co-occurs often with every other word\n",
    "    \n",
    "- Pointwise Mutual Information : PMI(w,c) = log[P(w,c)/P(w)P(c)]"
   ]
  },
  {
   "cell_type": "markdown",
   "metadata": {},
   "source": [
    "## How to do it in Python?"
   ]
  },
  {
   "cell_type": "markdown",
   "metadata": {
    "ExecuteTime": {
     "end_time": "2017-08-03T22:16:25.394677Z",
     "start_time": "2017-08-03T22:16:25.373859Z"
    }
   },
   "source": [
    "- Use NLTK Collocations and Association measures"
   ]
  },
  {
   "cell_type": "code",
   "execution_count": 11,
   "metadata": {
    "ExecuteTime": {
     "end_time": "2017-08-03T22:16:36.481642Z",
     "start_time": "2017-08-03T22:16:36.468314Z"
    },
    "collapsed": true
   },
   "outputs": [],
   "source": [
    "import nltk\n",
    "from nltk.collocations import *"
   ]
  },
  {
   "cell_type": "code",
   "execution_count": 12,
   "metadata": {
    "ExecuteTime": {
     "end_time": "2017-08-03T22:22:52.248288Z",
     "start_time": "2017-08-03T22:22:52.011004Z"
    }
   },
   "outputs": [
    {
     "ename": "NameError",
     "evalue": "name 'text' is not defined",
     "output_type": "error",
     "traceback": [
      "\u001b[0;31m---------------------------------------------------------------------------\u001b[0m",
      "\u001b[0;31mNameError\u001b[0m                                 Traceback (most recent call last)",
      "\u001b[0;32m<ipython-input-12-ccbb523175f3>\u001b[0m in \u001b[0;36m<module>\u001b[0;34m()\u001b[0m\n\u001b[1;32m      1\u001b[0m \u001b[0mbigram_measures\u001b[0m \u001b[0;34m=\u001b[0m \u001b[0mnltk\u001b[0m\u001b[0;34m.\u001b[0m\u001b[0mcollocations\u001b[0m\u001b[0;34m.\u001b[0m\u001b[0mBigramAssocMeasures\u001b[0m\u001b[0;34m(\u001b[0m\u001b[0;34m)\u001b[0m\u001b[0;34m\u001b[0m\u001b[0m\n\u001b[0;32m----> 2\u001b[0;31m \u001b[0mfinder\u001b[0m \u001b[0;34m=\u001b[0m \u001b[0mBigramCollocationFinder\u001b[0m\u001b[0;34m.\u001b[0m\u001b[0mfrom_words\u001b[0m\u001b[0;34m(\u001b[0m\u001b[0mtext\u001b[0m\u001b[0;34m)\u001b[0m\u001b[0;34m\u001b[0m\u001b[0m\n\u001b[0m\u001b[1;32m      3\u001b[0m \u001b[0mfinder\u001b[0m\u001b[0;34m.\u001b[0m\u001b[0mnbest\u001b[0m\u001b[0;34m(\u001b[0m\u001b[0mbigram_measures\u001b[0m\u001b[0;34m.\u001b[0m\u001b[0mpmi\u001b[0m\u001b[0;34m,\u001b[0m\u001b[0;36m10\u001b[0m\u001b[0;34m)\u001b[0m\u001b[0;34m\u001b[0m\u001b[0m\n",
      "\u001b[0;31mNameError\u001b[0m: name 'text' is not defined"
     ]
    }
   ],
   "source": [
    "bigram_measures = nltk.collocations.BigramAssocMeasures()\n",
    "finder = BigramCollocationFinder.from_words(text)\n",
    "finder.nbest(bigram_measures.pmi,10)"
   ]
  },
  {
   "cell_type": "markdown",
   "metadata": {},
   "source": [
    "finder also has other useful functions, such as frequency filter"
   ]
  },
  {
   "cell_type": "code",
   "execution_count": 13,
   "metadata": {
    "ExecuteTime": {
     "end_time": "2017-08-03T22:23:47.640695Z",
     "start_time": "2017-08-03T22:23:47.562416Z"
    }
   },
   "outputs": [
    {
     "ename": "NameError",
     "evalue": "name 'finder' is not defined",
     "output_type": "error",
     "traceback": [
      "\u001b[0;31m---------------------------------------------------------------------------\u001b[0m",
      "\u001b[0;31mNameError\u001b[0m                                 Traceback (most recent call last)",
      "\u001b[0;32m<ipython-input-13-1b5a881da847>\u001b[0m in \u001b[0;36m<module>\u001b[0;34m()\u001b[0m\n\u001b[0;32m----> 1\u001b[0;31m \u001b[0mfinder\u001b[0m\u001b[0;34m.\u001b[0m\u001b[0mapply_freq_filter\u001b[0m\u001b[0;34m(\u001b[0m\u001b[0;36m10\u001b[0m\u001b[0;34m)\u001b[0m\u001b[0;34m\u001b[0m\u001b[0m\n\u001b[0m",
      "\u001b[0;31mNameError\u001b[0m: name 'finder' is not defined"
     ]
    }
   ],
   "source": [
    "finder.apply_freq_filter(10)"
   ]
  },
  {
   "cell_type": "code",
   "execution_count": null,
   "metadata": {
    "collapsed": true
   },
   "outputs": [],
   "source": []
  }
 ],
 "metadata": {
  "anaconda-cloud": {},
  "kernelspec": {
   "display_name": "Python [conda root]",
   "language": "python",
   "name": "conda-root-py"
  },
  "language_info": {
   "codemirror_mode": {
    "name": "ipython",
    "version": 3
   },
   "file_extension": ".py",
   "mimetype": "text/x-python",
   "name": "python",
   "nbconvert_exporter": "python",
   "pygments_lexer": "ipython3",
   "version": "3.5.2"
  },
  "latex_envs": {
   "LaTeX_envs_menu_present": true,
   "autocomplete": true,
   "bibliofile": "biblio.bib",
   "cite_by": "apalike",
   "current_citInitial": 1,
   "eqLabelWithNumbers": true,
   "eqNumInitial": 1,
   "hotkeys": {
    "equation": "Ctrl-E",
    "itemize": "Ctrl-I"
   },
   "labels_anchors": false,
   "latex_user_defs": false,
   "report_style_numbering": false,
   "user_envs_cfg": false
  }
 },
 "nbformat": 4,
 "nbformat_minor": 2
}
