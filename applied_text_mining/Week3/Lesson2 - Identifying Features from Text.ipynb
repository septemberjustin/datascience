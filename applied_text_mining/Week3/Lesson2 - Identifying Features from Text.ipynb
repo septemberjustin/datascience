{
 "cells": [
  {
   "cell_type": "markdown",
   "metadata": {},
   "source": [
    "## Why is textual data unique?\n",
    "- Textual data presents a unique set of challenges\n",
    "- All the information you need is in the text\n",
    "- But features can be pulled out from text at different granularities!"
   ]
  },
  {
   "cell_type": "markdown",
   "metadata": {},
   "source": [
    "## Types of textual features \n",
    "### Words\n",
    "- By far the most common class of features\n",
    "- Handling commonly-occurring words: stop words\n",
    "- Normalization: Make lower case vs. leave as-is\n",
    "- Stemming / Lemmatization\n",
    "\n",
    "- Characteristics of words : Capitalization\n",
    "- Parts of speech of words in a sentence\n",
    "- Grammatical structure, sentence parsing\n",
    "- Grouping words of similar meaning, semantics\n",
    "        {buy, purchase}\n",
    "        {Mr., Ms., Dr., Prof.}; Numbers / Digits; Dates\n",
    "\n",
    "- Depending on classification tasks, features may come from inside words and word sequences\n",
    "        bigrams, trigrams, n-grams: \"White House\"\n",
    "        character sub-sequences in words: \"ing\", \"ion\",..."
   ]
  },
  {
   "cell_type": "markdown",
   "metadata": {},
   "source": []
  }
 ],
 "metadata": {
  "kernelspec": {
   "display_name": "Python [conda root]",
   "language": "python",
   "name": "conda-root-py"
  },
  "language_info": {
   "codemirror_mode": {
    "name": "ipython",
    "version": 3
   },
   "file_extension": ".py",
   "mimetype": "text/x-python",
   "name": "python",
   "nbconvert_exporter": "python",
   "pygments_lexer": "ipython3",
   "version": "3.5.2"
  },
  "latex_envs": {
   "LaTeX_envs_menu_present": true,
   "autocomplete": true,
   "bibliofile": "biblio.bib",
   "cite_by": "apalike",
   "current_citInitial": 1,
   "eqLabelWithNumbers": true,
   "eqNumInitial": 1,
   "hotkeys": {
    "equation": "Ctrl-E",
    "itemize": "Ctrl-I"
   },
   "labels_anchors": false,
   "latex_user_defs": false,
   "report_style_numbering": false,
   "user_envs_cfg": false
  }
 },
 "nbformat": 4,
 "nbformat_minor": 2
}
