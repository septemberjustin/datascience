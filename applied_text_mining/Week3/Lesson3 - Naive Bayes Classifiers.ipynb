{
 "cells": [
  {
   "cell_type": "markdown",
   "metadata": {},
   "source": [
    "## Case Study: Classifying text search queries"
   ]
  },
  {
   "cell_type": "markdown",
   "metadata": {},
   "source": [
    "### Suppose you are interested in classifying search queries in three classes: Entertainment, Computer Science, Zoology\n",
    "- Most common class is entertainment."
   ]
  },
  {
   "cell_type": "markdown",
   "metadata": {},
   "source": [
    "### Suppose the query is \"Python\"\n",
    "- Python, the snake (Zoology)\n",
    "- Python, the programming language (Computer Scinece)\n",
    "- Python, as in Monty Python (Entertainment)\n",
    "\n",
    "- Most common class, give \"Python\", is Zoology."
   ]
  },
  {
   "cell_type": "markdown",
   "metadata": {},
   "source": [
    "### Suppose the query is \"Python download\"\n",
    "- Most probable class, given \"Python download\", is Computer Science"
   ]
  },
  {
   "cell_type": "markdown",
   "metadata": {},
   "source": [
    "## Probabilistic Model\n",
    "- Update the likelihood of the class given new information\n",
    "- **Prior Probability**: Pr(y=Entertainment), Pr(y=CS), Pr(y=Zoology)\n",
    "- **Posterior probability**: Pr(y=Entertainment | x= \"Python\")"
   ]
  },
  {
   "cell_type": "markdown",
   "metadata": {},
   "source": [
    "## Bayes' Rule\n",
    "- Posterior probability = Prior probability * Likelyhood / Evidence\n",
    "- Pr(y|X) = Pr(y) * Pr(X|y) / Pr(X)"
   ]
  },
  {
   "cell_type": "markdown",
   "metadata": {},
   "source": [
    "### Naive Bayes Classification\n",
    "- Pr(y=CS|\"Python\") = Pr(y=CS) * Pr(\"Python\"|y=CS) / Pr(\"Python\")\n",
    "- Pr(y=Zoology|\"Python\") = Pr(y=Zoology) * Pr(\"Python\" | y=Zoology) / Pr(\"Python\")\n",
    "- Pr(y=CS|\"Python\")>Pr(y=Zoology|\"Python\") -> y=CS"
   ]
  },
  {
   "cell_type": "markdown",
   "metadata": {},
   "source": [
    "Pr(y|X) = Pr(y) * Pr(X|y) / Pr(X)\n",
    "\n",
    "y* = argmax_y Pr(y|X) = argmax_y Pr(y) * Pr(X|y)\n",
    "\n",
    "** Naiv assumption**: Given the class label, features are assumed to be independent of each other.\n",
    "\n",
    "y* = argmax_y Pr(y|X) = argmax_y Pr(y) * pi Pr(xi|y)"
   ]
  },
  {
   "cell_type": "markdown",
   "metadata": {},
   "source": [
    "### Query: \"Python download\"\n",
    "y* = argmax_y Pr(y) * Pr(\"Python\"|y) * Pr(\"download\"|y)"
   ]
  },
  {
   "cell_type": "markdown",
   "metadata": {},
   "source": [
    "## Naive Bayes: What are the parameters?\n",
    "- Prior probabilites: Pr(y) for all y in Y\n",
    "- Likelihood: Pr(xi|y) for all features xi and labels y in Y\n",
    "\n",
    "If there are 3 classes (|Y|=3) and 100 features in X, how many parameters does naive Bayes models have?"
   ]
  },
  {
   "cell_type": "markdown",
   "metadata": {},
   "source": [
    "## Naive Bayes: Learning parameters\n",
    "- Prior probabilities: Pr(y) for all y in Y\n",
    "\n",
    "        Remember training data?\n",
    "        Count the number of instances in each class\n",
    "        If there are N instances in all, and n out of those are labeled as class y\n",
    "\n",
    "- Likelihood: Pr(xi|y) for all features xi and labels y in Y\n",
    "\n",
    "        Count how many times feature xi appears in instances labeled as class y\n",
    "        If there are p instances of class y, and xi appears in k of those, Pr(xi|y) = k/p"
   ]
  },
  {
   "cell_type": "markdown",
   "metadata": {},
   "source": [
    "## Naive Bayes: Smoothing\n",
    "- What happens if Pr(xi|y) = 0?\n",
    "\n",
    "        Feature xi never occurs in documents labeled y\n",
    "        But then, the posterior probability Pr(y|xi) will be 0!!\n",
    "\n",
    "- Instead, smooth the parameters\n",
    "- Laplace smoothing or Additive smoothing: add a dummy count\n",
    "\n",
    "        Pr(xi|y) = (k+1)/(p+n); where n is number of features"
   ]
  },
  {
   "cell_type": "markdown",
   "metadata": {},
   "source": []
  }
 ],
 "metadata": {
  "kernelspec": {
   "display_name": "Python [conda root]",
   "language": "python",
   "name": "conda-root-py"
  },
  "language_info": {
   "codemirror_mode": {
    "name": "ipython",
    "version": 3
   },
   "file_extension": ".py",
   "mimetype": "text/x-python",
   "name": "python",
   "nbconvert_exporter": "python",
   "pygments_lexer": "ipython3",
   "version": "3.5.2"
  },
  "latex_envs": {
   "LaTeX_envs_menu_present": true,
   "autocomplete": true,
   "bibliofile": "biblio.bib",
   "cite_by": "apalike",
   "current_citInitial": 1,
   "eqLabelWithNumbers": true,
   "eqNumInitial": 1,
   "hotkeys": {
    "equation": "Ctrl-E",
    "itemize": "Ctrl-I"
   },
   "labels_anchors": false,
   "latex_user_defs": false,
   "report_style_numbering": false,
   "user_envs_cfg": false
  }
 },
 "nbformat": 4,
 "nbformat_minor": 2
}
