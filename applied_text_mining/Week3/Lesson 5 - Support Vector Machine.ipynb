{
 "cells": [
  {
   "cell_type": "markdown",
   "metadata": {},
   "source": [
    "## Classifier = Function on input data"
   ]
  },
  {
   "cell_type": "markdown",
   "metadata": {},
   "source": [
    "## Decision Boundaries"
   ]
  },
  {
   "cell_type": "markdown",
   "metadata": {},
   "source": [
    "### Classification function is represented by decision surfaces\n",
    "- How do you find them?"
   ]
  },
  {
   "cell_type": "markdown",
   "metadata": {},
   "source": [
    "## Choosing a Decision Boundary"
   ]
  },
  {
   "cell_type": "markdown",
   "metadata": {},
   "source": [
    "### DataOverfitting: Decision boundary learned over training data doesn't generalized to the data."
   ]
  },
  {
   "cell_type": "markdown",
   "metadata": {},
   "source": [
    "### Linear Boundaries\n",
    "- Easy to find\n",
    "- Easy to evaluate\n",
    "- More generalizable: Occam's razor"
   ]
  },
  {
   "cell_type": "markdown",
   "metadata": {},
   "source": [
    "### Finding a Linear Boundary\n",
    "- Find the linear boundary = Find w\n",
    "- Many methods\n",
    "\n",
    "        Perceptron\n",
    "        Linear Discriminative Analysis\n",
    "        Linear least squares\n",
    "        \n",
    "- Problem: If linearly separable, then infinite number of linear boundaries!"
   ]
  },
  {
   "cell_type": "markdown",
   "metadata": {},
   "source": [
    "### What is a reasonable boundary?"
   ]
  },
  {
   "cell_type": "markdown",
   "metadata": {
    "ExecuteTime": {
     "end_time": "2017-08-03T17:48:47.587512Z",
     "start_time": "2017-08-03T17:48:47.446825Z"
    }
   },
   "source": [
    "** maximum-margin hyperplane **"
   ]
  },
  {
   "cell_type": "markdown",
   "metadata": {},
   "source": [
    "## Support Vector Machines are maximum-margin classifiers \n",
    "- How do you find it?"
   ]
  },
  {
   "cell_type": "markdown",
   "metadata": {},
   "source": [
    "- SVMs are linear classifiers that find a hyperplane to separate two classes of data: positive and negative\n",
    "- Given training data(x1,y1),(x2,y2),...; where xi=(x1,x2,....xn) is instance vector and yi is one of {-1,+1}\n",
    "\n",
    "        SVM finds a linear function w (weight vector)\n",
    "        f(xi = <w * xi> + b\n",
    "        if f(xi) >=0, yi=+1; else yi=-1"
   ]
  },
  {
   "cell_type": "markdown",
   "metadata": {},
   "source": [
    "SVMs work only for binary classification problems.\n",
    "What about three classes?"
   ]
  },
  {
   "cell_type": "markdown",
   "metadata": {},
   "source": [
    "## SVM: Multi-class classification"
   ]
  },
  {
   "cell_type": "markdown",
   "metadata": {},
   "source": [
    "- One vs Rest (Repeat multiple times)\n",
    "- One vs One (Repeat multiple times)\n",
    "- n-class SVM has C(n,2)\n"
   ]
  },
  {
   "cell_type": "markdown",
   "metadata": {},
   "source": [
    "## SVM Parameters (I): Parameter C"
   ]
  },
  {
   "cell_type": "markdown",
   "metadata": {
    "ExecuteTime": {
     "end_time": "2017-08-03T19:05:23.626748Z",
     "start_time": "2017-08-03T19:05:23.570839Z"
    }
   },
   "source": [
    "- Regularization: How much importance should you give individual data points as compared to better generalized model\n",
    "- Regularization parameter c\n",
    "\n",
    "        Larger value of c = less regularization\n",
    "        - fit training data as well as possible, every data point important\n",
    "        Smaller values of c = more regularization\n",
    "        - More tolerant to errors on individual data points"
   ]
  },
  {
   "cell_type": "markdown",
   "metadata": {},
   "source": [
    "## SVM Parameters (II): Other params\n",
    "\n",
    "- Linear kernels usually work best for text data\n",
    "\n",
    "        Other kernels include rbf, polynomial\n",
    "\n",
    "- multi_class: ovr(one-vs-rest)\n",
    "- class_weight: Different classes can get different weights"
   ]
  },
  {
   "cell_type": "code",
   "execution_count": null,
   "metadata": {
    "collapsed": true
   },
   "outputs": [],
   "source": []
  }
 ],
 "metadata": {
  "kernelspec": {
   "display_name": "Python [conda root]",
   "language": "python",
   "name": "conda-root-py"
  },
  "language_info": {
   "codemirror_mode": {
    "name": "ipython",
    "version": 3
   },
   "file_extension": ".py",
   "mimetype": "text/x-python",
   "name": "python",
   "nbconvert_exporter": "python",
   "pygments_lexer": "ipython3",
   "version": "3.5.2"
  },
  "latex_envs": {
   "LaTeX_envs_menu_present": true,
   "autocomplete": true,
   "bibliofile": "biblio.bib",
   "cite_by": "apalike",
   "current_citInitial": 1,
   "eqLabelWithNumbers": true,
   "eqNumInitial": 1,
   "hotkeys": {
    "equation": "Ctrl-E",
    "itemize": "Ctrl-I"
   },
   "labels_anchors": false,
   "latex_user_defs": false,
   "report_style_numbering": false,
   "user_envs_cfg": false
  }
 },
 "nbformat": 4,
 "nbformat_minor": 2
}
